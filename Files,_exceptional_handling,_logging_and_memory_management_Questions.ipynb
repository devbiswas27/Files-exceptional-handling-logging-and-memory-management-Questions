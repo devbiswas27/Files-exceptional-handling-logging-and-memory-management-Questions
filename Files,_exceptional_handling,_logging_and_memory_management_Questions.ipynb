{
  "nbformat": 4,
  "nbformat_minor": 0,
  "metadata": {
    "colab": {
      "provenance": []
    },
    "kernelspec": {
      "name": "python3",
      "display_name": "Python 3"
    },
    "language_info": {
      "name": "python"
    }
  },
  "cells": [
    {
      "cell_type": "code",
      "execution_count": null,
      "metadata": {
        "id": "7ehZ_I7IrCAV"
      },
      "outputs": [],
      "source": []
    },
    {
      "cell_type": "markdown",
      "source": [
        "#Q.1. What is the difference between interpreted and compiled languages.\n",
        "\n",
        "The difference between interpreted and compiled languages comes down to how the code you write is translated into machine code (the 1s and 0s the computer actually understands).\n",
        "\n",
        ">> Compiled Languages\n",
        "\n",
        "How they work: Your entire code is translated all at once into machine code by a compiler.\n",
        "\n",
        "When translation happens: Before the program runs.\n",
        "\n",
        "Examples: C, C++, Rust, Go.\n",
        "\n",
        "> Advantages:\n",
        "\n",
        "Faster execution (once compiled).\n",
        "\n",
        "Often better optimization by the compiler.\n",
        "\n",
        "Errors can be caught at compile time.\n",
        "\n",
        "> Disadvantages:\n",
        "\n",
        "Slower development cycle (you need to compile before running).\n",
        "\n",
        "Platform-dependent (you may need to recompile for different operating systems).\n",
        "\n",
        ">> Interpreted Languages\n",
        "\n",
        "How they work: Code is read and executed line-by-line by an interpreter.\n",
        "\n",
        "When translation happens: At runtime, as the program runs.\n",
        "\n",
        "Examples: Python, JavaScript, Ruby.\n",
        "\n",
        "> Advantages:\n",
        "\n",
        "Faster development and testing (no compile step).\n",
        "\n",
        "Easier to debug interactively.\n",
        "\n",
        "More portable across systems (no need to recompile).\n",
        "\n",
        "> Disadvantages:\n",
        "\n",
        "Slower execution speed.\n",
        "\n",
        "Runtime errors may occur in code paths not tested.\n",
        "\n"
      ],
      "metadata": {
        "id": "COc4ZTZjr5rR"
      }
    },
    {
      "cell_type": "markdown",
      "source": [
        "#Q.2. What is exception handling in Python?\n",
        "\n",
        "Exception handling in Python is a way to manage errors that occur while your program is running, so your program doesn't crash unexpectedly.\n",
        "\n",
        ">> What is an Exception?\n",
        "\n",
        "An exception is an error that happens during execution. Examples include:\n",
        "\n",
        "Trying to divide by zero (ZeroDivisionError)\n",
        "\n",
        "Accessing a variable that doesn’t exist (NameError)\n",
        "\n",
        "Opening a file that doesn't exist (FileNotFoundError)\n",
        "\n",
        ">> How Exception Handling Works\n",
        "\n",
        "Python uses try, except, else, and finally blocks to handle exceptions.\n",
        "\n",
        "> Benefits of Exception Handling\n",
        "\n",
        "Prevents your program from crashing unexpectedly.\n",
        "\n",
        "Lets you control the flow of your program when things go wrong.\n",
        "\n",
        "Makes your code more robust and easier to debug."
      ],
      "metadata": {
        "id": "S6XTNPkHt-HD"
      }
    },
    {
      "cell_type": "markdown",
      "source": [
        "#Q.3.What is the purpose of the finally block in exception handling?\n",
        "\n",
        "The purpose of the finally block in Python exception handling is to define code that must run no matter what, whether an exception occurred or not.\n",
        "\n",
        "> Key Characteristics:\n",
        "\n",
        "The finally block always executes, regardless of whether:\n",
        "\n",
        "An exception was raised or not\n",
        "\n",
        "The exception was caught or not\n",
        "\n",
        "The program used return, break, or continue in a prior block\n",
        "\n",
        "> Common Use Cases:\n",
        "\n",
        "Releasing resources (e.g., closing a file or database connection)\n",
        "\n",
        "Cleanup tasks (e.g., deleting temporary files)\n",
        "\n",
        "Logging or tracking operations that should happen regardless of outcome\n",
        "\n"
      ],
      "metadata": {
        "id": "0u9Rn6Fgul1Y"
      }
    },
    {
      "cell_type": "markdown",
      "source": [
        "#4.What is logging in Python?\n",
        "\n",
        "Logging in Python is the process of recording events that happen while a program runs. It helps you track the flow, debug issues, and monitor system behavior—without interrupting the program like print() statements might.\n",
        "\n",
        "> Why Use Logging (Instead of print())?\n",
        "\n",
        "More control over what gets logged and where\n",
        "\n",
        "Can log to files, consoles, external systems, etc.\n",
        "\n",
        "Supports different severity levels (e.g., debug, warning, error)\n",
        "\n",
        "Easier to disable or redirect output in production\n",
        "\n"
      ],
      "metadata": {
        "id": "TsFgLVdyvEQW"
      }
    },
    {
      "cell_type": "markdown",
      "source": [
        "#Q.5.What is the significance of the __del__ method in Python?\n",
        "\n",
        "The __del__ method in Python is a special method known as a destructor. It is called automatically when an object is about to be destroyed (i.e., when its reference count drops to zero and it's garbage collected).\n",
        "\n",
        "      class MyClass:\n",
        "        def __del__(self):\n",
        "        print(\"Object is being deleted\")\n",
        "\n",
        ">>Purpose of __del__:\n",
        "\n",
        "To clean up resources used by the object, such as:\n",
        "\n",
        "Closing files\n",
        "\n",
        "Releasing network connections\n",
        "\n",
        "Freeing external resources (like database handles)"
      ],
      "metadata": {
        "id": "O2Kj44ZWvg7d"
      }
    },
    {
      "cell_type": "markdown",
      "source": [
        "#Q.6.What is the difference between import and from ... import in Python?\n",
        "\n",
        "The difference between import and from ... import in Python comes down to how much of a module you're importing and how you access its contents.\n",
        "\n",
        ">> 1. import module\n",
        "\n",
        "Imports the entire module.\n",
        "\n",
        "You access functions, classes, etc., with the module name as a prefix.\n",
        "\n",
        "> Example:\n",
        "\n",
        "import math\n",
        "\n",
        "print(math.sqrt(16))  # Output: 4.0\n",
        "\n",
        "> Pros:\n",
        "\n",
        "Namespace stays clean (you always know where a function came from).\n",
        "\n",
        "Avoids naming conflicts.\n",
        "\n",
        "\n",
        ">Cons:\n",
        "\n",
        "Slightly longer to type (math.sqrt instead of sqrt).\n",
        "\n",
        ">> 2. from module import something\n",
        "\n",
        "Imports only specific items from a module directly into your namespace.\n",
        "\n",
        "You can use them without the module prefix.\n",
        "\n",
        "> Example:\n",
        "\n",
        "from math import sqrt\n",
        "\n",
        "print(sqrt(16))  # Output: 4.0\n",
        "\n",
        "> Pros:\n",
        "\n",
        "Cleaner and shorter code.\n",
        "\n",
        "Useful when you only need a few things.\n",
        "\n",
        "> Cons:\n",
        "\n",
        "Can cause naming conflicts (e.g., if you have your own sqrt() function).\n",
        "\n",
        "Less clear where a function came from.\n",
        "\n",
        "> 3. from module import *\n",
        "\n",
        "Imports everything from the module (not recommended).\n",
        "\n",
        "Example:\n",
        "\n",
        "from math import *\n",
        "\n",
        "print(sqrt(25))  # Output: 5.0\n",
        "\n",
        "> Major Drawbacks:\n",
        "\n",
        "Pollutes the namespace with all functions/variables from the module.\n",
        "\n",
        "Makes code harder to read and debug.\n",
        "\n",
        "> Best Practices:\n",
        "\n",
        "Use import module for clarity and safety.\n",
        "\n",
        "Use from module import name for convenience, especially in short scripts or interactive work.\n",
        "\n",
        "Avoid from module import *, especially in larger projects or libraries.\n",
        "\n"
      ],
      "metadata": {
        "id": "Cakzlz7TwNt3"
      }
    },
    {
      "cell_type": "markdown",
      "source": [
        "#Q.7.How can you handle multiple exceptions in Python?\n",
        "\n",
        "You can handle multiple exceptions in Python using a few different techniques depending on what you want to do. Here’s how:\n",
        "\n",
        ">> 1. Handle Multiple Exceptions Separately\n",
        "\n",
        "Use multiple except blocks to catch different exceptions and handle them differently.\n",
        "\n",
        "\n",
        "    try:\n",
        "        x = int(input(\"Enter a number: \"))\n",
        "        result = 10 / x\n",
        "    except ZeroDivisionError:\n",
        "        print(\"You can't divide by zero.\")\n",
        "    except ValueError:\n",
        "        print(\"Invalid input. Please enter a number.\")\n",
        "\n",
        "\n",
        ">> 2. Handle Multiple Exceptions Together\n",
        "\n",
        "Use a tuple of exceptions in a single except block if you want to treat them the same way.\n",
        "\n",
        "    try:\n",
        "        x = int(input(\"Enter a number: \"))\n",
        "        result = 10 / x\n",
        "    except (ZeroDivisionError, ValueError):\n",
        "        print(\"An error occurred: invalid number or division by zero.\")\n",
        ">> 3. Catch the Exception Object\n",
        "\n",
        "You can also access the actual exception object using as.\n",
        "\n",
        "\n",
        "    try:\n",
        "        x = int(input(\"Enter a number: \"))\n",
        "        result = 10 / x\n",
        "    except (ZeroDivisionError, ValueError) as e:\n",
        "        print(f\"Error occurred: {e}\")\n",
        ">> 4. Generic Exception (Use Sparingly)\n",
        "\n",
        "You can catch all exceptions using except Exception, but this should be used carefully—only when you really need a catch-all handler (e.g., in a logging system).\n",
        "\n",
        "\n",
        "    try:\n",
        "        # risky code\n",
        "    except Exception as e:\n",
        "        print(f\"Something went wrong: {e}\")\n"
      ],
      "metadata": {
        "id": "tlxjJnJSybJX"
      }
    },
    {
      "cell_type": "markdown",
      "source": [
        "#Q.8.What is the purpose of the with statement when handling files in Python?\n",
        "\n",
        "The with statement in Python is used when working with resources like files to ensure they are properly managed and cleaned up, even if an error occurs. When handling files, it automatically opens the file, and then closes it once you're done—even if an exception is raised.\n",
        "\n",
        ">> Purpose of with for File Handling:\n",
        "\n",
        "Automatically closes the file — no need to call file.close()\n",
        "\n",
        "Prevents resource leaks\n",
        "\n",
        "Makes code cleaner, safer, and more readable\n",
        "\n",
        "Helps avoid common bugs (like forgetting to close a file)\n",
        "\n",
        ">> Basic Example Without with:\n",
        "\n",
        "    file = open(\"example.txt\", \"r\")\n",
        "    data = file.read()\n",
        "    file.close()  # You must remember this manually\n",
        "If an error occurs before file.close(), the file stays open.\n",
        "\n",
        "> Same Example Using with:\n",
        "\n",
        "    with open(\"example.txt\", \"r\") as file:\n",
        "        data = file.read()\n",
        "# File is automatically closed here, even if an error happens\n",
        "This is safer and preferred.\n",
        "\n",
        ">> Under the Hood:\n",
        "\n",
        "open() returns a file object that supports the context manager protocol (__enter__ and __exit__)\n",
        "\n",
        "The with statement handles calling those methods\n",
        "\n",
        "__enter__: opens the file\n",
        "\n",
        "__exit__: closes the file (even if there's an error)\n"
      ],
      "metadata": {
        "id": "-HovCTyazPgf"
      }
    },
    {
      "cell_type": "markdown",
      "source": [
        "#Q.9.What is the difference between multithreading and multiprocessing?\n",
        "\n",
        "The key difference between multithreading and multiprocessing in Python (or any programming language) lies in how they achieve concurrency and how they use system resources like CPU and memory.\n",
        "\n",
        ">> 1. Multithreading\n",
        "\n",
        "Running multiple threads (smaller units of a process) within the same process.\n",
        "\n",
        "Threads share the same memory space.\n",
        "\n",
        "> Use Case:\n",
        "\n",
        "Best for I/O-bound tasks (e.g. reading files, network calls, waiting on user input).\n",
        "\n",
        "> Limitation in Python:\n",
        "\n",
        "Python has a Global Interpreter Lock (GIL), which means only one thread executes Python bytecode at a time, limiting CPU-bound performance gains.\n",
        "\n",
        "> Pros:\n",
        "\n",
        "Lower memory use (shared memory).\n",
        "\n",
        "Lightweight context switching.\n",
        "\n",
        "Good for tasks that wait a lot (I/O).\n",
        "\n",
        "> Cons:\n",
        "\n",
        "Not ideal for CPU-heavy tasks.\n",
        "\n",
        "Risk of race conditions and deadlocks due to shared memory.\n",
        "\n",
        ">>2. Multiprocessing\n",
        "\n",
        "Runs multiple processes, each with its own Python interpreter and memory space.\n",
        "\n",
        "Avoids the GIL because each process is independent.\n",
        "\n",
        "> Use Case:\n",
        "\n",
        "Best for CPU-bound tasks (e.g. data crunching, image processing, machine learning).\n",
        "\n",
        "> Pros:\n",
        "\n",
        "True parallelism—fully uses multiple CPU cores.\n",
        "\n",
        "Safer—each process has its own memory (fewer synchronization issues).\n",
        "\n",
        "> Cons:\n",
        "\n",
        "More overhead (process creation and inter-process communication).\n",
        "\n",
        "More memory usage.\n"
      ],
      "metadata": {
        "id": "pejLZ3hM0TkG"
      }
    },
    {
      "cell_type": "markdown",
      "source": [
        "#Q.10.What are the advantages of using logging in a program?\n",
        "\n",
        "Using logging in a Python program provides several advantages over using simple print() statements. It’s especially important for debugging, monitoring, and maintaining production-level applications.\n",
        "\n",
        ">> 1. Helps with Debugging\n",
        "\n",
        "Logging provides detailed information about the flow and state of your program.\n",
        "\n",
        "You can trace bugs more easily, especially when dealing with complex logic or large applications.\n",
        "\n",
        "logging.debug(\"Variable x has value: %s\", x)\n",
        "\n",
        "> 2. Control Over Output\n",
        "\n",
        "You can easily control what gets logged and where it goes (e.g., console, file, remote server).\n",
        "\n",
        "With print(), everything goes to the console—no filtering.\n",
        "\n",
        "> 3. Severity Levels\n",
        "\n",
        "You can categorize messages by importance:\n",
        "\n",
        "DEBUG, INFO, WARNING, ERROR, CRITICAL\n",
        "\n",
        "This helps in filtering logs during development vs. production.\n",
        "\n",
        "logging.warning(\"Disk space is running low.\")\n",
        "\n",
        "> 4. Persistent Records\n",
        "\n",
        "Logs can be written to files or external systems, creating a persistent history of events.\n",
        "\n",
        "Useful for auditing and post-mortem analysis after crashes.\n",
        "\n",
        "> 5. Configurable and Flexible\n",
        "\n",
        "You can configure formatting, log rotation, timestamps, etc.\n",
        "\n",
        "You can log to multiple outputs at once (e.g., file + email + console).\n",
        "\n",
        "\n",
        "    logging.basicConfig(\n",
        "        filename='app.log',\n",
        "        level=logging.INFO,\n",
        "        format='%(asctime)s - %(levelname)s - %(message)s'\n",
        "    )\n",
        ">> 6. Production-Ready\n",
        "\n",
        "Logging is thread-safe and used in enterprise-grade apps.\n",
        "\n",
        "It scales better than using print() statements.\n",
        "\n",
        "> 7. Easier to Disable or Change\n",
        "\n",
        "You can turn logging off or change the logging level without changing your code logic.\n",
        "\n",
        "With print(), you'd have to remove or comment out lines."
      ],
      "metadata": {
        "id": "ffgyd9up1Kg5"
      }
    },
    {
      "cell_type": "markdown",
      "source": [
        "#Q.11. What is memory management in Python?\n",
        "\n",
        "Memory management in Python refers to the process of efficiently allocating, using, and freeing memory during the execution of a program. It is a critical part of Python’s runtime system, ensuring that memory resources are used optimally and that objects that are no longer needed are properly cleaned up.\n",
        "\n",
        "Key Aspects of Memory Management in Python:\n",
        "\n",
        "1. Automatic Memory Management (Garbage Collection)\n",
        "\n",
        "Garbage collection is the process of automatically freeing memory by removing objects that are no longer in use (i.e., objects that are no longer referenced).\n",
        "\n",
        "Python’s garbage collector primarily works using reference counting and a cyclic garbage collector.\n",
        "\n",
        "> Reference Counting:\n",
        "\n",
        "Each object in Python has an associated reference count. Every time a variable or object refers to the object, the reference count is incremented. When the reference count reaches zero, the object is no longer used, and the memory is freed.\n",
        "\n",
        "> Cyclic Garbage Collection:\n",
        "\n",
        "Reference counting alone can’t handle cyclic references (when two or more objects reference each other). Python has a cyclic garbage collector to periodically check and clean up such references.\n",
        "\n",
        "2. Memory Allocation:\n",
        "\n",
        "Python uses a private heap for memory management, where all Python objects and data structures are stored. This heap is managed by the Python memory manager, which is responsible for allocating memory blocks for objects.\n",
        "\n",
        "Small objects are handled by a pools system that groups objects of the same size to improve efficiency.\n",
        "\n",
        "Large objects are allocated directly from the heap.\n",
        "\n",
        "3. The del Statement:\n",
        "\n",
        "The del statement can be used to delete variables or references to objects. This decreases the reference count, which may trigger garbage collection if no other references to the object exist.\n",
        "\n",
        "\n",
        "    a = [1, 2, 3]\n",
        "    del a  # The reference count of the list decreases, and it may be garbage collected if no other references exist.\n",
        "4. Memory Leaks:\n",
        "\n",
        "Memory leaks occur when objects are no longer needed but are not properly freed. This can happen if references to objects are accidentally kept (e.g., in global variables or circular references).\n",
        "\n",
        "Tools like gc.collect() or profiling libraries can be used to identify and deal with memory leaks.\n",
        "\n",
        "5. Memory Pools and Object Reuse:\n",
        "\n",
        "Python uses memory pools to manage memory allocation more efficiently. Small objects (typically less than 256 bytes) are managed in pools rather than directly requesting memory from the operating system. This improves performance by reducing the overhead of frequent memory allocation and deallocation.\n",
        "\n",
        "Pymalloc is a specialized allocator for small memory blocks.\n",
        "\n",
        "6. Manual Memory Management (Optional):\n",
        "\n",
        "While Python handles memory management automatically, developers can take control using:\n",
        "\n",
        "gc module: For interacting with the garbage collector, forcing garbage collection, or disabling it.\n",
        "\n",
        "sys.getsizeof(): To determine the size of an object in memory.\n",
        "\n",
        "weakref module: To create weak references, which do not increase an object’s reference count (useful for caches or circular references).\n",
        "\n",
        "7. Optimizing Memory Usage:\n",
        "\n",
        "Avoiding circular references: Be mindful of creating objects that reference each other in loops (cyclic dependencies).\n",
        "\n",
        "Using memory-efficient data types: For large data sets, consider using more memory-efficient structures like array or third-party libraries like NumPy.\n",
        "\n",
        "Profiling memory usage: Tools like memory_profiler or tracemalloc can help track memory usage and identify memory-heavy areas in your program.\n",
        "\n"
      ],
      "metadata": {
        "id": "IzA4zGJM2lbQ"
      }
    },
    {
      "cell_type": "markdown",
      "source": [
        "#Q.12.What are the basic steps involved in exception handling in Python?\n",
        "\n",
        "Exception handling in Python involves several basic steps that allow you to manage errors gracefully during program execution. Here's a breakdown of those steps:\n",
        "\n",
        "1. Identify the Risky Code (try block):\n",
        "\n",
        "The first step is to put the code that may cause an error inside a **try** block.\n",
        "\n",
        "This is where you anticipate that something might go wrong (e.g., file operations, user input, network requests, etc.).\n",
        "\n",
        "\n",
        "    try:\n",
        "        # Code that might raise an exception\n",
        "        x = 10 / 0  # This will raise a ZeroDivisionError\n",
        "2. Handle the Exception (except block):\n",
        "\n",
        "If an exception occurs in the try block, the code in the **except** block will run.\n",
        "\n",
        "The except block catches the specific type of exception you want to handle.\n",
        "\n",
        "You can catch multiple types of exceptions or a single one, depending on your needs.\n",
        "\n",
        "\n",
        "    try:\n",
        "        x = 10 / 0  # This will raise a ZeroDivisionError\n",
        "    except ZeroDivisionError:\n",
        "        print(\"Cannot divide by zero!\")\n",
        "3. Optional: Access the Exception Object (as clause):\n",
        "\n",
        "If needed, you can capture the exception object using the **as** keyword and get more details about the exception.\n",
        "\n",
        "This is useful if you want to print or log the error message.\n",
        "\n",
        "\n",
        "    try:\n",
        "        x = 10 / 0\n",
        "    except ZeroDivisionError as e:\n",
        "        print(f\"Error occurred: {e}\")\n",
        "4. Optional: Provide an Else Block:\n",
        "\n",
        "The **else** block is executed if no exceptions occur in the try block.\n",
        "\n",
        "It's useful for code that should only run if the try block is successful and doesn't raise an exception.\n",
        "\n",
        "\n",
        "    try:\n",
        "        x = 10 / 2  # No exception will be raised\n",
        "    except ZeroDivisionError:\n",
        "        print(\"Cannot divide by zero!\")\n",
        "    else:\n",
        "        print(f\"Division successful. Result: {x}\")\n",
        "5. Optional: Execute Code Regardless (finally block):\n",
        "\n",
        "The **finally** block is used for code that must always run, regardless of whether an exception occurred or not.\n",
        "\n",
        "This is useful for cleanup operations, like closing files or releasing resources.\n",
        "\n",
        "\n",
        "    try:\n",
        "        file = open(\"example.txt\", \"r\")\n",
        "        content = file.read()\n",
        "    except FileNotFoundError:\n",
        "        print(\"File not found!\")\n",
        "    finally:\n",
        "        # Code to ensure that the file gets closed\n",
        "        file.close()\n",
        "        print(\"File closed.\")\n",
        "6. Optional: Catch Multiple Exceptions:\n",
        "\n",
        "You can handle multiple exceptions in different ways using multiple except blocks or catch them together.\n",
        "\n",
        "Multiple except blocks:\n",
        "\n",
        "    try:\n",
        "        num = int(input(\"Enter a number: \"))\n",
        "        result = 10 / num\n",
        "    except ZeroDivisionError:\n",
        "        print(\"Cannot divide by zero.\")\n",
        "    except ValueError:\n",
        "        print(\"Invalid input. Please enter a number.\")\n",
        "Catching multiple exceptions together:\n",
        "\n",
        "    try:\n",
        "        num = int(input(\"Enter a number: \"))\n",
        "        result = 10 / num\n",
        "    except (ZeroDivisionError, ValueError) as e:\n",
        "        print(f\"An error occurred: {e}\")"
      ],
      "metadata": {
        "id": "nbCfpMcc3qNe"
      }
    },
    {
      "cell_type": "markdown",
      "source": [
        "#Q.13.Why is memory management important in Python?\n",
        "\n",
        "Memory management is crucial in Python (or any programming language) because it directly impacts the efficiency, performance, and stability of your programs. Poor memory management can lead to memory leaks, slow performance, and even program crashes. In Python, this is especially important because the language abstracts many memory management tasks, but it’s still up to the developer to write efficient code and avoid common pitfalls.\n",
        "\n",
        "Here are several reasons why memory management is important in Python:\n",
        "\n",
        "1. Efficient Use of Resources\n",
        "\n",
        "Proper memory management ensures that memory resources are used efficiently, reducing the program’s memory footprint and preventing the system from running out of memory.\n",
        "\n",
        "If memory is not managed well, it could lead to excessive memory consumption, which can slow down the program and even cause it to crash.\n",
        "\n",
        "2. Garbage Collection and Automatic Cleanup\n",
        "\n",
        "Python uses automatic memory management with garbage collection. This means objects that are no longer in use (i.e., when there are no more references to them) are automatically cleaned up to free memory.\n",
        "\n",
        "However, improper management (like holding onto objects longer than necessary) can lead to memory leaks, where memory is consumed without being freed.\n",
        "\n",
        "3. Performance Optimization\n",
        "\n",
        "The faster your program can allocate and deallocate memory, the faster it will run. Efficient memory usage helps in making applications faster and more responsive.\n",
        "\n",
        "Poor memory management can cause fragmentation (where memory is used inefficiently), slowing down the execution of your program.\n",
        "\n",
        "4. Avoiding Memory Leaks\n",
        "\n",
        "A memory leak occurs when the program consumes memory but doesn't release it back to the system, even though it no longer needs the memory. This can eventually cause the system to run out of memory and crash.\n",
        "\n",
        "In Python, memory leaks can happen due to circular references or holding references to objects that should have been discarded (e.g., keeping large data structures in memory unnecessarily).\n",
        "\n",
        "5. Preventing Crashes\n",
        "\n",
        "If a program runs out of memory due to inefficient memory management, it can crash. This is particularly problematic in production environments, where stability is critical.\n",
        "\n",
        "Programs with large datasets or long-running processes are especially prone to this issue if memory is not managed effectively.\n",
        "\n",
        "6. Real-Time and Embedded Systems\n",
        "\n",
        "In environments with limited resources (e.g., embedded systems or real-time applications), memory is a finite resource. Proper memory management is essential to ensure the program operates within the constraints of the system without exceeding its memory capacity.\n",
        "\n",
        "7. Improved Scalability\n",
        "\n",
        "For large-scale applications (e.g., web servers, data processing systems), managing memory well ensures that the application can handle a larger number of users or requests without excessive memory consumption.\n",
        "\n",
        "Scalable applications rely on optimizing memory usage to perform well under load.\n",
        "\n",
        "Key Aspects of Memory Management in Python:\n",
        "\n",
        "1. Automatic Garbage Collection\n",
        "\n",
        "Python automatically manages memory through reference counting and garbage collection. The garbage collector cleans up objects that are no longer in use.\n",
        "\n",
        "However, there are still scenarios (like circular references) where manual intervention may be necessary.\n",
        "\n",
        "2. Reference Counting\n",
        "\n",
        "Python keeps track of how many references there are to each object. When the reference count drops to zero, the object is automatically deleted, and memory is freed.\n",
        "\n",
        "3. Cyclic Garbage Collection\n",
        "\n",
        "Python’s garbage collector helps detect and clean up objects involved in circular references (where two or more objects reference each other).\n",
        "\n",
        "This is crucial since reference counting alone cannot clean up these types of cycles.\n",
        "\n",
        "4. Memory Pools\n",
        "\n",
        "Python uses memory pools to allocate memory for small objects (typically under 256 bytes). This is more efficient than allocating and deallocating memory frequently from the operating system.\n",
        "\n",
        "5. Manual Memory Management:\n",
        "\n",
        "Developers can also influence memory management by using techniques like weak references (to avoid increasing the reference count) or the gc module for controlling garbage collection.\n",
        "\n"
      ],
      "metadata": {
        "id": "7DWty2Ka4pSQ"
      }
    },
    {
      "cell_type": "markdown",
      "source": [
        "#Q.14.What is the role of try and except in exception handling?\n",
        "\n",
        "In Python, the **try** and **except** blocks are key components of exception handling, and they play a crucial role in ensuring that your program can gracefully handle errors or unexpected situations without crashing.\n",
        "\n",
        "Here’s a detailed breakdown of the role of try and except in exception handling:\n",
        "\n",
        "1. The Role of try Block:\n",
        "\n",
        "Purpose: The try block is where you place the code that might cause an exception (i.e., an error). This is the code that the program will attempt to execute.\n",
        "\n",
        "If an error occurs in the try block, Python will stop executing the rest of the code inside the try block and immediately jump to the corresponding except block to handle the error.\n",
        "\n",
        "If no error occurs in the try block, the except block is skipped, and the program continues with the code after the try-except structure.\n",
        "\n",
        "Example:\n",
        "\n",
        "    try:\n",
        "        x = 10 / 2  # No error, division is successful\n",
        "        print(\"Division successful\")\n",
        "    except ZeroDivisionError:\n",
        "        print(\"Cannot divide by zero!\")\n",
        "2. The Role of except Block:\n",
        "\n",
        "Purpose: The except block is where you handle the exception if an error occurs in the try block.\n",
        "\n",
        "You can specify the type of exception you want to handle, or use a general exception to catch any type of error.\n",
        "\n",
        "The except block provides a way to handle errors and continue program execution without crashing the entire program.\n",
        "\n",
        "\n",
        "    try:\n",
        "        # Code that may raise an exception\n",
        "    except SomeSpecificException:\n",
        "        # Code to handle that specific exception\n",
        "3. Handling Specific Exceptions:\n",
        "\n",
        "You can specify the type of exception to catch by naming it after the except keyword (e.g., ZeroDivisionError, ValueError, etc.).\n",
        "\n",
        "Handling specific exceptions allows you to respond to different error types in a targeted way."
      ],
      "metadata": {
        "id": "QvguErWC5Lkv"
      }
    },
    {
      "cell_type": "markdown",
      "source": [
        "#Q.15. How does Python's garbage collection system work?\n",
        "\n",
        "Python’s garbage collection system is designed to manage memory automatically, freeing up memory by deleting objects that are no longer in use. This system plays a crucial role in preventing memory leaks and ensuring that memory is used efficiently. The key components of Python's garbage collection system are reference counting and cyclic garbage collection. Let's break down how both of these work:\n",
        "\n",
        "1. Reference Counting:\n",
        "\n",
        "The primary mechanism for memory management in Python is reference counting. Each object in Python has an associated reference count, which tracks how many references (variables, data structures, etc.) point to the object. When the reference count of an object drops to zero, meaning no references to the object remain, the object is immediately deallocated (i.e., its memory is freed)."
      ],
      "metadata": {
        "id": "ssmMN-015xHH"
      }
    },
    {
      "cell_type": "markdown",
      "source": [
        "#Q.16.What is the purpose of the else block in exception handling?\n",
        "\n",
        "In Python, the **else** block is an optional part of the exception handling mechanism, and it serves a specific purpose in the try-except structure. The primary purpose of the else block is to execute code when no exceptions are raised in the try block.\n",
        "\n",
        "Here's a detailed explanation of its role:\n",
        "\n",
        "Purpose of the else Block:\n",
        "\n",
        "To run code when no exceptions occur:\n",
        "\n",
        "The code inside the else block is executed only if the try block completes successfully without any exceptions.\n",
        "\n",
        "If an exception occurs in the try block, the code in the else block will be skipped and the except block (if it exists) will handle the exception.\n",
        "\n",
        "To separate normal execution from error handling:\n",
        "\n",
        "The else block allows you to cleanly separate the code that should run when everything is successful from the error-handling code in the except block.\n",
        "\n",
        "This makes your code more organized and readable, ensuring that normal operations are handled separately from error cases.\n",
        "\n"
      ],
      "metadata": {
        "id": "EcU2xaIC6FJ3"
      }
    },
    {
      "cell_type": "markdown",
      "source": [
        "#Q.17.What are the common logging levels in Python?\n",
        "\n",
        "In Python, the built-in logging module provides a flexible system for adding log statements to your code. These logs can help you track the execution, debug issues, and monitor the behavior of your application. Logging levels indicate the severity or importance of the messages being logged.\n",
        "\n",
        ">> Common Logging Levels in Python (from lowest to highest severity)\n",
        "\n",
        "    Logging Level\tNumeric Value\tPurpose / Description\n",
        "    DEBUG\t10\tDetailed information, useful for diagnosing problems. Mainly used during development.\n",
        "    INFO\t20\tGeneral information about the program's execution, such as startup or shutdown messages.\n",
        "    WARNING\t30\tIndicates something unexpected happened, but the program can still continue.\n",
        "    ERROR\t40\tA serious problem that prevents part of the program from functioning properly.\n",
        "    CRITICAL\t50\tA very serious error, indicating the program may not be able to continue running."
      ],
      "metadata": {
        "id": "h7OHN3xT6bHh"
      }
    },
    {
      "cell_type": "markdown",
      "source": [
        "#Q.18.What is the difference between os.fork() and multiprocessing in Python?\n",
        "\n",
        "The main difference between os.fork() and the multiprocessing module in Python lies in how they create new processes, their platform support, and ease of use. Here's a breakdown of the differences:\n",
        "\n",
        ">> 1. Basic Concept\n",
        "\n",
        "Feature\tos.fork()\tmultiprocessing module\n",
        "\n",
        "Purpose\tDirectly creates a child process\tProvides a high-level interface to spawn and manage processes\n",
        "Abstraction\tLow-level system call\tHigh-level API (object-oriented and portable)\n",
        "Usage Style\tUnix-style process control\tPythonic (functions and classes)\n",
        "\n",
        ">> 2. Platform Support\n",
        "\n",
        "Feature\tos.fork()\tmultiprocessing\n",
        "\n",
        "Supported OS\tUnix/Linux/macOS only\tCross-platform (Windows, Linux, macOS)\n",
        "\n",
        "os.fork() is not available on Windows, making it unsuitable for cross-platform applications.\n",
        "\n",
        "multiprocessing works consistently across platforms, including Windows.\n",
        "\n",
        ">>3. How They Work\n",
        "\n",
        "> os.fork():\n",
        "\n",
        "Creates a child process that is a copy of the parent process.\n",
        "\n",
        "Returns 0 in the child process and the child PID in the parent."
      ],
      "metadata": {
        "id": "DagC7az660Mt"
      }
    },
    {
      "cell_type": "markdown",
      "source": [
        "#Q19. What is the importance of closing a file in Python?\n",
        "\n",
        "Closing a file in Python is important for several practical and technical reasons. When you open a file using Python’s built-in open() function, you create a file object that interacts with the underlying system resources. Failing to close this file properly can lead to issues such as resource leaks, data corruption, and unpredictable program behavior.\n",
        "\n",
        ">> Why Closing a File Is Important\n",
        "\n",
        "1.  Releases System Resources\n",
        "\n",
        "Each open file uses system resources (e.g., file handles or file descriptors).\n",
        "\n",
        "These are limited, especially on some operating systems.\n",
        "\n",
        "Not closing a file can exhaust available resources, leading to errors like:\n",
        "\n",
        "\n",
        "OSError: [Errno 24] Too many open files\n",
        "\n",
        "2.  Ensures Data Is Properly Written\n",
        "\n",
        "When writing to a file, data is often buffered (stored temporarily in memory).\n",
        "\n",
        "If you don’t close the file, the buffered data might not be written to disk.\n",
        "\n",
        "Closing a file flushes the buffer and ensures data integrity.\n",
        "\n",
        "\n",
        "    file = open(\"data.txt\", \"w\")\n",
        "    file.write(\"Hello, world!\")\n",
        "# If you don’t close the file, this data might not actually be saved.\n",
        "file.close()\n",
        "\n",
        "3.  Prevents File Corruption\n",
        "\n",
        "An open file that's being written to and not closed properly can be corrupted, especially if the program crashes or exits unexpectedly.\n",
        "\n",
        "This is especially important for binary files, databases, and logs.\n",
        "\n",
        "4.  Avoids File Locks\n",
        "\n",
        "Some systems lock files when they’re open.\n",
        "\n",
        "Not closing the file can keep it locked, preventing other programs or users from accessing it.\n",
        "\n",
        "5.  Improves Performance\n",
        "\n",
        "Closing unused files frees up memory and system handles, improving the overall performance of your program and system."
      ],
      "metadata": {
        "id": "tjACaHSd7Xa4"
      }
    },
    {
      "cell_type": "markdown",
      "source": [
        "#Q.20. What is the difference between file.read() and file.readline() in Python?\n",
        "\n",
        "The difference between file.read() and file.readline() in Python lies in how much data each method reads from a file:\n",
        "\n",
        ">> file.read()\n",
        "\n",
        "Reads the entire file (or a specified number of characters) into a single string.\n",
        "\n",
        "Useful when you want to load the whole file at once.\n",
        "\n",
        "Syntax:\n",
        "\n",
        "file.read([size])\n",
        "\n",
        "If size is omitted, it reads the entire file.\n",
        "\n",
        "If size is provided, it reads up to that many characters (or bytes in binary mode).\n",
        "\n",
        "Example:\n",
        "\n",
        "    with open(\"example.txt\", \"r\") as f:\n",
        "        content = f.read()\n",
        "        print(content)\n",
        ">> file.readline()\n",
        "\n",
        "Reads a single line from the file (ending in \\n if the line has one).\n",
        "\n",
        "Useful for processing files line by line, especially large ones.\n",
        "\n",
        "Syntax:\n",
        "\n",
        "file.readline([size])\n",
        "\n",
        "Reads one line or up to size characters of that line.\n",
        "\n",
        "Example:\n",
        "\n",
        "    with open(\"example.txt\", \"r\") as f:\n",
        "        line = f.readline()\n",
        "        print(line)\n",
        "\n"
      ],
      "metadata": {
        "id": "V6yLxZXA8QFL"
      }
    },
    {
      "cell_type": "markdown",
      "source": [
        "#Q.21.What is the logging module in Python used for?\n",
        "\n",
        "The **logging** module in Python is used to track events that happen during program execution, helping developers:\n",
        "\n",
        "Monitor a program's flow\n",
        "\n",
        "Debug errors\n",
        "\n",
        "Record useful runtime information\n",
        "\n",
        "Audit user actions or system behavior\n",
        "\n",
        ">> Main Uses of the logging Module\n",
        "\n",
        "    Purpose\tDescription\n",
        "    ✅ Debugging\tHelps find and fix issues by logging variable values, execution flow, etc.\n",
        "    📈 Monitoring\tTracks what's happening during runtime (e.g., usage stats, events).\n",
        "    ⚠️ Error Reporting\tCaptures warnings and errors that can be reviewed later.\n",
        "    📄 Persistent Records\tStores logs in files for later inspection (e.g., server logs, crash logs).\n",
        "    🔐 Auditing & Security\tLogs user actions or suspicious events for security purposes."
      ],
      "metadata": {
        "id": "_0gX8dhH88vs"
      }
    },
    {
      "cell_type": "markdown",
      "source": [
        "#Q.22. What is the os module in Python used for in file handling?\n",
        "\n",
        "The **os** module in Python is used to interact with the operating system, and it provides powerful tools for file handling and directory management. It allows you to perform operations such as creating, deleting, renaming, and navigating files and folders programmatically.\n",
        "\n",
        ">> Common Uses of the os Module in File Handling\n",
        "\n",
        "      Operation\t               Function\tDescription\n",
        "       Get current directory\tos.getcwd()\tReturns the current working directory\n",
        "       Change directory\t      os.chdir(path)\tChanges the working directory\n",
        "       List files and folders\tos.listdir(path)\tLists contents of a directory\n",
        "       Create directory\t      os.mkdir(path) / os.makedirs()\tCreates a directory (single or nested)\n",
        "       Remove file\t          os.remove(path)\tDeletes a file\n",
        "       Remove directory\t      os.rmdir(path) / os.removedirs()\tDeletes directory (empty or nested)\n",
        "       Rename file/directory\tos.rename(src, dst)\tRenames a file or directory\n",
        "       Get file info\t        os.stat(path)\tReturns file metadata (size, modification time)\n",
        "       Check existence\t      os.path.exists(path)\tChecks if a file or directory exists\n",
        "       Join paths\t            os.path.join(a, b)\tCombines path parts safely across platforms\n"
      ],
      "metadata": {
        "id": "NIcMWFxz9pjI"
      }
    },
    {
      "cell_type": "markdown",
      "source": [
        "#Q.23.What are the challenges associated with memory management in Python?\n",
        "\n",
        "Memory management in Python is largely automatic, thanks to features like garbage collection and reference counting, but it still comes with several challenges that developers need to be aware of to write efficient and bug-free programs.\n",
        "\n",
        ">> Common Challenges in Python Memory Management\n",
        "\n",
        "1. Memory Leaks\n",
        "\n",
        "What happens: Objects that are no longer needed stay in memory because they're still referenced.\n",
        "\n",
        "Why it’s a problem: Over time, unused memory accumulates, increasing the program’s memory footprint.\n",
        "\n",
        "Common causes:\n",
        "\n",
        "Global variables\n",
        "\n",
        "Long-lived objects (like caches, logs)\n",
        "\n",
        "Circular references not handled by garbage collector\n",
        "\n",
        "\n",
        "    # Example of potential memory leak with a global list\n",
        "    leaky_list = []\n",
        "\n",
        "    def add_data():\n",
        "        for i in range(1000):\n",
        "            leaky_list.append(str(i))\n",
        "2. Circular References\n",
        "\n",
        "What happens: Two or more objects reference each other, forming a cycle.\n",
        "\n",
        "Why it’s a problem: Python’s reference counting won't clean them up automatically.\n",
        "\n",
        "Solution: Python’s garbage collector detects cycles, but it doesn't always do so efficiently or immediately.\n",
        "\n",
        "\n",
        "    class A:\n",
        "        def __init__(self):\n",
        "            self.b = None\n",
        "\n",
        "    class B:\n",
        "        def __init__(self):\n",
        "            self.a = None\n",
        "\n",
        "    a = A()\n",
        "    b = B()\n",
        "    a.b = b\n",
        "    b.a = a\n",
        "    # Circular reference — reference count never hits zero\n",
        "3. Large Objects / Data Structures\n",
        "\n",
        "What happens: Large lists, dictionaries, or pandas DataFrames can consume significant memory.\n",
        "\n",
        "Why it’s a problem: Can lead to slowdowns or MemoryError on memory-limited machines.\n",
        "\n",
        "Tip: Use generators, streaming, or memory-efficient structures when possible.\n",
        "\n",
        "4. Inefficient Object Use\n",
        "\n",
        "Using mutable default arguments or holding references unnecessarily can cause bloating.\n",
        "\n",
        "\n",
        "    # Bad practice: mutable default argument\n",
        "    def append_to_list(value, my_list=[]):\n",
        "        my_list.append(value)\n",
        "        return my_list\n",
        "5. Third-Party Libraries\n",
        "\n",
        "Some libraries may have their own memory leaks or inefficient memory usage.\n",
        "\n",
        "Especially true in long-running applications like web servers or data pipelines.\n",
        "\n",
        "6. Delayed Garbage Collection\n",
        "\n",
        "Python’s cyclic garbage collector may delay freeing memory, especially in performance-sensitive apps.\n",
        "\n",
        "Objects in the oldest generation are collected less frequently.\n",
        "\n",
        "7. Memory Fragmentation\n",
        "\n",
        "Happens when memory is allocated and deallocated in chunks, leading to unused gaps.\n",
        "\n",
        "Can reduce performance and effective memory usage, particularly in long-running processes.\n",
        "\n",
        "8. Object Caching\n",
        "\n",
        "Python internally caches small integers and certain strings for performance.\n",
        "\n",
        "Sometimes objects may not be freed when expected due to internal caching.\n",
        "\n"
      ],
      "metadata": {
        "id": "a-gBk8MU-mRi"
      }
    },
    {
      "cell_type": "markdown",
      "source": [
        "#Q.24.How do you raise an exception manually in Python?\n",
        "\n",
        "In Python, you can manually raise an exception using the **raise** statement. This is useful when you want to signal that an error or unusual condition has occurred in your code.\n",
        "\n",
        "> Basic Syntax\n",
        "\n",
        "raise ExceptionType(\"Optional error message\")\n",
        "\n",
        "ExceptionType should be a valid Python exception class (built-in or custom).\n",
        "\n",
        "The message is optional but helpful for debugging or user feedback.\n",
        "\n",
        "> Example: Raising a Built-in Exception\n",
        "\n",
        "    x = -5\n",
        "    if x < 0:\n",
        "        raise ValueError(\"x must be non-negative\")\n",
        "    Output:\n",
        "\n",
        "    ValueError: x must be non-negative\n",
        "> Raising Custom Exceptions\n",
        "\n",
        "You can also define your own exceptions by subclassing the built-in Exception class:\n",
        "\n",
        "\n",
        "    class MyCustomError(Exception):\n",
        "        pass\n",
        "\n",
        "    raise MyCustomError(\"Something specific went wrong\")\n",
        "> Re-raising Exceptions\n",
        "\n",
        "Inside an except block, you can re-raise the caught exception:\n",
        "\n",
        "\n",
        "    try:\n",
        "        1 / 0\n",
        "    except ZeroDivisionError as e:\n",
        "        print(\"Caught an error:\", e)\n",
        "        raise  # Re-raises the same exception"
      ],
      "metadata": {
        "id": "scAZtHwF_Tce"
      }
    },
    {
      "cell_type": "markdown",
      "source": [
        "#Q.25.Why is it important to use multithreading in certain applications?\n",
        "\n",
        "Using multithreading in certain applications is important because it allows your program to perform multiple operations concurrently, improving efficiency, responsiveness, and resource utilization—especially in scenarios that involve I/O-bound tasks.\n",
        "\n",
        ">> Why Multithreading Matters in Some Applications\n",
        "\n",
        "1.  Improves Responsiveness (e.g., GUIs, Web Servers)\n",
        "In applications with a user interface, using threads prevents the UI from freezing during long operations like file loading or network calls.\n",
        "\n",
        "Example:\n",
        "In a GUI app:\n",
        "\n",
        "Without threads: Clicking \"Open file\" freezes the whole UI.\n",
        "\n",
        "With threads: UI remains responsive while file loads in the background.\n",
        "\n",
        "2.  Handles Multiple I/O Operations Efficiently\n",
        "\n",
        "Multithreading is ideal for I/O-bound tasks such as:\n",
        "\n",
        "Reading from or writing to files\n",
        "\n",
        "Making API calls or database queries\n",
        "\n",
        "Waiting for user input or network responses\n",
        "\n",
        "Threads can run while others are waiting, reducing idle time.\n",
        "\n",
        "Example Use Case:\n",
        "\n",
        "    import threading\n",
        "    import requests\n",
        "\n",
        "    def fetch_url(url):\n",
        "        response = requests.get(url)\n",
        "        print(f\"Finished fetching {url}\")\n",
        "\n",
        "    threading.Thread(target=fetch_url, args=(\"http://example.com\",)).start()\n",
        "3. Reduces Latency in Concurrent Operations\n",
        "\n",
        "Useful in real-time applications like chat servers, download managers, or data collectors where multiple users or sources need to be handled simultaneously.\n",
        "\n",
        "4. Better Resource Utilization\n",
        "\n",
        "Threads share the same memory space, making them lightweight compared to processes.\n",
        "\n",
        "Faster context switching compared to multiprocessing.\n",
        "\n",
        "5. Ideal for Networking & Server Applications\n",
        "Web servers, proxies, and chat servers benefit from using threads to handle multiple client connections concurrently.\n",
        "\n"
      ],
      "metadata": {
        "id": "2cCTjarkAHeD"
      }
    },
    {
      "cell_type": "markdown",
      "source": [
        "                                    #Practical Questions"
      ],
      "metadata": {
        "id": "cviqo-WLAzOu"
      }
    },
    {
      "cell_type": "code",
      "source": [
        "#Q.1. How can you open a file for writing in Python and write a string to it?\n",
        "\n",
        "with open(\"exemple.txt\",\"w\") as file:\n",
        "  file.write(\"Hello World\")"
      ],
      "metadata": {
        "id": "Cnj6eYLDA85K"
      },
      "execution_count": 1,
      "outputs": []
    },
    {
      "cell_type": "code",
      "source": [
        "#Q.2.Write a Python program to read the contents of a file and print each line\n",
        "with open(\"exemple.txt\",\"r\") as file:\n",
        "  for line in file:\n",
        "    print(line, end=\"\")"
      ],
      "metadata": {
        "colab": {
          "base_uri": "https://localhost:8080/"
        },
        "id": "KxYNc9Y16iXv",
        "outputId": "6b36a288-3906-44a7-f130-47e7f8d52256"
      },
      "execution_count": 5,
      "outputs": [
        {
          "output_type": "stream",
          "name": "stdout",
          "text": [
            "Hello World"
          ]
        }
      ]
    },
    {
      "cell_type": "code",
      "source": [
        "#Q.3.How would you handle a case where the file doesn't exist while trying to open it for reading.\n",
        "\n",
        "filename=\"exemple.txt\"\n",
        "\n",
        "try:\n",
        "    with open(filename, \"r\") as file:\n",
        "      for line in file:\n",
        "        print(line, end=\"\")\n",
        "except FileNotFoundError:\n",
        "    print(f\"Error: The file '{filename}' does not exist.\")"
      ],
      "metadata": {
        "colab": {
          "base_uri": "https://localhost:8080/"
        },
        "id": "REt61iXF7isr",
        "outputId": "234e438e-9e0c-465e-fb11-7dce314dd392"
      },
      "execution_count": 12,
      "outputs": [
        {
          "output_type": "stream",
          "name": "stdout",
          "text": [
            "Hello World"
          ]
        }
      ]
    },
    {
      "cell_type": "code",
      "source": [
        "#Q.4.Write a Python script that reads from one file and writes its content to another file\n",
        "\n",
        "source_file = \"source.txt\"\n",
        "destination_file = \"destination.txt\"\n",
        "try:\n",
        "    with open(source_file, \"r\") as src:\n",
        "        content = src.read()\n",
        "    with open(destination_file, \"w\") as dest:\n",
        "        dest.write(content)\n",
        "    print(f\"Content copied from '{source_file}' to '{destination_file}' successfully.\")\n",
        "except FileNotFoundError:\n",
        "    print(f\"Error: The file '{source_file}' does not exist.\")\n",
        "except Exception as e:\n",
        "    print(f\"An error occurred: {e}\")\n",
        ""
      ],
      "metadata": {
        "colab": {
          "base_uri": "https://localhost:8080/"
        },
        "id": "HVVMDzMK9i2-",
        "outputId": "0110e5df-d7aa-4c91-804a-38d3e40b5556"
      },
      "execution_count": 26,
      "outputs": [
        {
          "output_type": "stream",
          "name": "stdout",
          "text": [
            "Error: The file 'source.txt' does not exist.\n"
          ]
        }
      ]
    },
    {
      "cell_type": "code",
      "source": [
        "#Q.5.How would you catch and handle division by zero error in Python.\n",
        "\n",
        "try:\n",
        "    result = 10/0\n",
        "except ZeroDivisionError:\n",
        "    print(\"Error:Division by zero is not allowed\")\n",
        "else:\n",
        "    print(f\"The result is:{result}\")"
      ],
      "metadata": {
        "colab": {
          "base_uri": "https://localhost:8080/"
        },
        "id": "tWLySDGlBq7r",
        "outputId": "f4ce057d-cd81-4e2d-e336-368e5c9b3b7e"
      },
      "execution_count": 28,
      "outputs": [
        {
          "output_type": "stream",
          "name": "stdout",
          "text": [
            "Error:Division by zero is not allowed\n"
          ]
        }
      ]
    },
    {
      "cell_type": "code",
      "source": [
        "#Q.6.Write a Python program that logs an error message to a log file when a division by zero exception occurs.\n",
        "\n",
        "import logging\n",
        "\n",
        "# Configure logging\n",
        "logging.basicConfig(filename='error_log.txt', level=logging.ERROR, format='%(asctime)s - %(levelname)s - %(message)s')\n",
        "\n",
        "def divide(a, b):\n",
        "    try:\n",
        "        result = a / b\n",
        "        return result\n",
        "    except ZeroDivisionError as e:\n",
        "        logging.error(\"Attempted to divide %d by zero\", a)\n",
        "        print(\"Error: Cannot divide by zero.\")\n",
        "        return None\n",
        "\n",
        "# Example usage\n",
        "numerator = 10\n",
        "denominator = 0\n",
        "result = divide(numerator, denominator)\n",
        "if result is not None:\n",
        "    print(f\"Result: {result}\")\n"
      ],
      "metadata": {
        "colab": {
          "base_uri": "https://localhost:8080/"
        },
        "id": "uAWrgggJEHsm",
        "outputId": "78cfc53d-2c71-4387-929e-e9ec73af601c"
      },
      "execution_count": 29,
      "outputs": [
        {
          "output_type": "stream",
          "name": "stderr",
          "text": [
            "ERROR:root:Attempted to divide 10 by zero\n"
          ]
        },
        {
          "output_type": "stream",
          "name": "stdout",
          "text": [
            "Error: Cannot divide by zero.\n"
          ]
        }
      ]
    },
    {
      "cell_type": "code",
      "source": [
        "#Q.7.How do you log information at different levels (INFO, ERROR, WARNING) in Python using the logging module.\n",
        "import logging\n",
        "\n",
        "# Configure logging to display messages on the console\n",
        "logging.basicConfig(level=logging.DEBUG)\n",
        "\n",
        "# Log messages at different levels\n",
        "logging.debug(\"This is a debug message.\")\n",
        "logging.info(\"This is an info message.\")\n",
        "logging.warning(\"This is a warning message.\")\n",
        "logging.error(\"This is an error message.\")\n",
        "logging.critical(\"This is a critical message.\")\n",
        "\n",
        "\n",
        "import logging\n",
        "\n",
        "# Configure logging to write messages to a file\n",
        "logging.basicConfig(filename='app.log', level=logging.DEBUG, format='%(asctime)s - %(levelname)s - %(message)s')\n",
        "\n",
        "# Log messages at different levels\n",
        "logging.debug(\"This is a debug message.\")\n",
        "logging.info(\"This is an info message.\")\n",
        "logging.warning(\"This is a warning message.\")\n",
        "logging.error(\"This is an error message.\")\n",
        "logging.critical(\"This is a critical message.\")\n",
        "\n"
      ],
      "metadata": {
        "colab": {
          "base_uri": "https://localhost:8080/"
        },
        "id": "30JfBgUtHu0X",
        "outputId": "34e7ff56-2736-494b-a359-f426c215ed03"
      },
      "execution_count": 31,
      "outputs": [
        {
          "output_type": "stream",
          "name": "stderr",
          "text": [
            "WARNING:root:This is a warning message.\n",
            "ERROR:root:This is an error message.\n",
            "CRITICAL:root:This is a critical message.\n",
            "WARNING:root:This is a warning message.\n",
            "ERROR:root:This is an error message.\n",
            "CRITICAL:root:This is a critical message.\n"
          ]
        }
      ]
    },
    {
      "cell_type": "code",
      "source": [
        "#Q.8.Write a program to handle a file opening error using exception handling.\n",
        "\n",
        "try:\n",
        "    with open(\"exemple.txt\",\"r\") as file:\n",
        "      content = file.read()\n",
        "      print(\"file content:\")\n",
        "      print(content)\n",
        "except FileNotFoundError:\n",
        "    print(\"Error: The file 'exemple.txt' does not exist.\")\n",
        "except PermissionError:\n",
        "    print(\"Error: Permission denied to access the file 'exemple.txt'.\")\n",
        "except Exception as e:\n",
        "    print(f\"An error occurred: {e}\")"
      ],
      "metadata": {
        "colab": {
          "base_uri": "https://localhost:8080/"
        },
        "id": "R50B0gMRJzeU",
        "outputId": "f9b36b5b-87ba-46f3-cba3-1e44e3afc203"
      },
      "execution_count": 33,
      "outputs": [
        {
          "output_type": "stream",
          "name": "stdout",
          "text": [
            "file content:\n",
            "Hello World\n"
          ]
        }
      ]
    },
    {
      "cell_type": "code",
      "source": [
        "#Q.9.How can you read a file line by line and store its content in a list in Python.\n",
        "\n",
        "lines = []\n",
        "try:\n",
        "    with open('example.txt', 'r') as file: # Try to open the file\n",
        "        for line in file:\n",
        "            lines.append(line.strip())\n",
        "except FileNotFoundError: # Handle the exception if the file is not found\n",
        "    print(\"Error: The file 'example.txt' does not exist. Please create it or check the file path.\")\n",
        "    # Inform the user and provide guidance\n",
        "print(lines) # Proceed with printing the lines (which might be empty if the file was not found)\n",
        "\n",
        "\n"
      ],
      "metadata": {
        "colab": {
          "base_uri": "https://localhost:8080/"
        },
        "id": "LoAqMhF5Lymx",
        "outputId": "0b0d9659-35a1-4ae8-e524-eef0fc681f91"
      },
      "execution_count": 37,
      "outputs": [
        {
          "output_type": "stream",
          "name": "stdout",
          "text": [
            "Error: The file 'example.txt' does not exist. Please create it or check the file path.\n",
            "[]\n"
          ]
        }
      ]
    },
    {
      "cell_type": "code",
      "source": [
        "#Q.10.How can you append data to an existing file in Python.\n",
        "\n",
        "with open('example.txt', 'a') as file:\n",
        "    file.write('This is a new line.\\n')\n"
      ],
      "metadata": {
        "id": "Y0x6o72BMumz"
      },
      "execution_count": 38,
      "outputs": []
    },
    {
      "cell_type": "code",
      "source": [
        "#Q.11.Write a Python program that uses a try-except block to handle an error when attempting to access a dictionary key that doesn't exist\n",
        "\n",
        "subject= {\"math\": 90, \"english\": 85, \"science\": 88}\n",
        "\n",
        "try:\n",
        "    print(subject[\"history\"])\n",
        "except KeyError:\n",
        "    print(\"Error: The key 'history' does not exist in the dictionary.\")"
      ],
      "metadata": {
        "colab": {
          "base_uri": "https://localhost:8080/"
        },
        "id": "40cOGpWGOZyO",
        "outputId": "3bbeace2-9f4c-4b7e-923e-aa15b9815f22"
      },
      "execution_count": 39,
      "outputs": [
        {
          "output_type": "stream",
          "name": "stdout",
          "text": [
            "Error: The key 'history' does not exist in the dictionary.\n"
          ]
        }
      ]
    },
    {
      "cell_type": "code",
      "source": [
        "#Q.12. Write a program that demonstrates using multiple except blocks to handle different types of exceptions.\n",
        "\n",
        "try:\n",
        "    # Attempt to open a file\n",
        "    with open('example.txt', 'r') as file:\n",
        "        content = file.read()\n",
        "        print(content)\n",
        "\n",
        "    # Attempt to divide by zero\n",
        "    result = 10 / 0\n",
        "\n",
        "    # Attempt to access a non-existent dictionary key\n",
        "    my_dict = {'a': 1}\n",
        "    print(my_dict['b'])\n",
        "\n",
        "except FileNotFoundError:\n",
        "    print(\"Error: The file 'example.txt' was not found.\")\n",
        "\n",
        "except ZeroDivisionError:\n",
        "    print(\"Error: Division by zero is not allowed.\")\n",
        "\n",
        "except KeyError:\n",
        "    print(\"Error: The specified key does not exist in the dictionary.\")\n",
        "\n",
        "except Exception as e:\n",
        "    print(f\"An unexpected error occurred: {e}\")\n"
      ],
      "metadata": {
        "colab": {
          "base_uri": "https://localhost:8080/"
        },
        "id": "WlVxNWknPY8-",
        "outputId": "4061db14-4567-4c54-fd36-63a90dbf121a"
      },
      "execution_count": 44,
      "outputs": [
        {
          "output_type": "stream",
          "name": "stdout",
          "text": [
            "This is a new line.\n",
            "\n",
            "Error: Division by zero is not allowed.\n"
          ]
        }
      ]
    },
    {
      "cell_type": "code",
      "source": [
        "#Q.13.How would you check if a file exists before attempting to read it in Python.\n",
        "\n",
        "import os\n",
        "file_path = \"exemple.txt\"\n",
        "if os.path.isfile(file_path):\n",
        "  with open (\"exemple.txt\",\"r\") as file:\n",
        "    content = file.read()\n",
        "    print(\"file content:\")\n",
        "    print(content)\n",
        "else:\n",
        "  print(f\"Error: The file '{file_path}' does not exist.\")\n",
        "\n",
        "\n",
        "from pathlib import Path\n",
        "\n",
        "file_path = Path('example.txt')\n",
        "\n",
        "if file_path.is_file():\n",
        "    with open(file_path, 'r') as file:\n",
        "        content = file.read()\n",
        "    print(content)\n",
        "else:\n",
        "    print(f\"The file '{file_path}' does not exist or is not a regular file.\")\n"
      ],
      "metadata": {
        "id": "bSllzaj9RLhL"
      },
      "execution_count": null,
      "outputs": []
    },
    {
      "cell_type": "code",
      "source": [
        "#Q14.Write a program that uses the logging module to log both informational and error messages.\n",
        "\n",
        "import logging\n",
        "\n",
        "# Configure logging\n",
        "logging.basicConfig(\n",
        "    filename='app.log',\n",
        "    level=logging.DEBUG,\n",
        "    format='%(asctime)s - %(name)s - %(levelname)s - %(message)s',\n",
        "    encoding='utf-8'\n",
        ")\n",
        "\n",
        "# Create a logger\n",
        "logger = logging.getLogger(__name__)\n",
        "\n",
        "# Log an informational message\n",
        "logger.info('This is an informational message.')\n",
        "\n",
        "# Log an error message\n",
        "try:\n",
        "    result = 10 / 0\n",
        "except ZeroDivisionError as e:\n",
        "    logger.error('An error occurred: %s', e)\n"
      ],
      "metadata": {
        "colab": {
          "base_uri": "https://localhost:8080/"
        },
        "id": "JhOPQLRNUUI4",
        "outputId": "8145a5a0-a3db-4b7e-8156-3d8c9ba81127"
      },
      "execution_count": 46,
      "outputs": [
        {
          "output_type": "stream",
          "name": "stderr",
          "text": [
            "ERROR:__main__:An error occurred: division by zero\n"
          ]
        }
      ]
    },
    {
      "cell_type": "code",
      "source": [
        "#Q15.Write a Python program that prints the content of a file and handles the case when the file is empty.\n",
        "\n",
        "import os\n",
        "\n",
        "# Specify the file path\n",
        "file_path = 'example.txt'\n",
        "\n",
        "try:\n",
        "    # Check if the file exists and is not empty\n",
        "    if os.path.exists(file_path) and os.path.getsize(file_path) > 0:\n",
        "        with open(file_path, 'r') as file:\n",
        "            content = file.read()\n",
        "            print(\"File content:\")\n",
        "            print(content)\n",
        "    else:\n",
        "        print(f\"The file '{file_path}' is empty or does not exist.\")\n",
        "except FileNotFoundError:\n",
        "    print(f\"The file '{file_path}' does not exist.\")\n",
        "except Exception as e:\n",
        "    print(f\"An error occurred: {e}\")\n"
      ],
      "metadata": {
        "colab": {
          "base_uri": "https://localhost:8080/"
        },
        "id": "PkULmluOViau",
        "outputId": "3c6c39bd-ca61-47da-ac91-43bb085c313a"
      },
      "execution_count": 47,
      "outputs": [
        {
          "output_type": "stream",
          "name": "stdout",
          "text": [
            "File content:\n",
            "This is a new line.\n",
            "\n"
          ]
        }
      ]
    },
    {
      "cell_type": "code",
      "source": [
        "#Q16.Demonstrate how to use memory profiling to check the memory usage of a small program.\n",
        "\n",
        "pip install memory-profiler\n",
        "\n",
        "  from memory_profiler import profile\n",
        "\n",
        "@profile\n",
        "def generate_squares(n):\n",
        "    squares = [i**2 for i in range(n)]\n",
        "    return squares\n",
        "\n",
        "if __name__ == \"__main__\":\n",
        "    generate_squares(1000)\n",
        "\n",
        "python -m memory_profiler your_script.py\n",
        "\n",
        "\n"
      ],
      "metadata": {
        "id": "2upcyxVLWLB5"
      },
      "execution_count": null,
      "outputs": []
    },
    {
      "cell_type": "code",
      "source": [
        "#Q.17.Write a Python program to create and write a list of numbers to a file, one number per line.\n",
        "\n",
        "# Create a list of numbers\n",
        "numbers = [1, 2, 3, 4, 5]\n",
        "\n",
        "# Specify the file path\n",
        "file_path = 'numbers.txt'\n",
        "\n",
        "# Write the numbers to the file, one per line\n",
        "with open(file_path, 'w') as file:\n",
        "    for number in numbers:\n",
        "        file.write(f\"{number}\\n\")\n",
        "\n",
        "print(f\"Numbers have been written to {file_path}.\")\n"
      ],
      "metadata": {
        "colab": {
          "base_uri": "https://localhost:8080/"
        },
        "id": "VCCFdrH-Z4E3",
        "outputId": "31a309ef-4d15-4bce-c0c1-6fb95b6a0ae7"
      },
      "execution_count": 54,
      "outputs": [
        {
          "output_type": "stream",
          "name": "stdout",
          "text": [
            "Numbers have been written to numbers.txt.\n"
          ]
        }
      ]
    },
    {
      "cell_type": "code",
      "source": [
        "#Q.18.  How would you implement a basic logging setup that logs to a file with rotation after 1MB.\n",
        "\n",
        "import logging\n",
        "from logging.handlers import RotatingFileHandler\n",
        "\n",
        "# Define the log file path\n",
        "log_file = 'app.log'\n",
        "\n",
        "# Set up the logger\n",
        "logger = logging.getLogger('MyLogger')\n",
        "logger.setLevel(logging.DEBUG)  # Capture all levels of logs\n",
        "\n",
        "# Create a rotating file handler\n",
        "handler = RotatingFileHandler(\n",
        "    log_file,\n",
        "    maxBytes=1 * 1024 * 1024,  # 1MB\n",
        "    backupCount=3,             # Keep 3 backup files\n",
        "    encoding='utf-8'\n",
        ")\n",
        "handler.setLevel(logging.DEBUG)\n",
        "\n",
        "# Define the log format\n",
        "formatter = logging.Formatter('%(asctime)s - %(levelname)s - %(message)s')\n",
        "handler.setFormatter(formatter)\n",
        "\n",
        "# Add the handler to the logger\n",
        "logger.addHandler(handler)\n",
        "\n",
        "# Example log entries\n",
        "logger.debug('This is a debug message.')\n",
        "logger.info('This is an info message.')\n",
        "logger.warning('This is a warning message.')\n",
        "logger.error('This is an error message.')\n",
        "logger.critical('This is a critical message.')\n"
      ],
      "metadata": {
        "colab": {
          "base_uri": "https://localhost:8080/"
        },
        "id": "ih6IhJvzb8aI",
        "outputId": "813d8fc3-0d29-4749-96e5-bbe369463666"
      },
      "execution_count": 56,
      "outputs": [
        {
          "output_type": "stream",
          "name": "stderr",
          "text": [
            "DEBUG:MyLogger:This is a debug message.\n",
            "INFO:MyLogger:This is an info message.\n",
            "WARNING:MyLogger:This is a warning message.\n",
            "ERROR:MyLogger:This is an error message.\n",
            "CRITICAL:MyLogger:This is a critical message.\n"
          ]
        }
      ]
    },
    {
      "cell_type": "code",
      "source": [
        "#Q.19. Write a program that handles both IndexError and KeyError using a try-except block.\n",
        "\n",
        "def access_data():\n",
        "    my_list = [10, 20, 30]\n",
        "    my_dict = {'a': 1, 'b': 2}\n",
        "\n",
        "    try:\n",
        "        # Attempting to access an index that may not exist\n",
        "        print(my_list[5])\n",
        "    except IndexError:\n",
        "        print(\"IndexError: List index out of range.\")\n",
        "\n",
        "    try:\n",
        "        # Attempting to access a key that may not exist\n",
        "        print(my_dict['c'])\n",
        "    except KeyError:\n",
        "        print(\"KeyError: Key not found in dictionary.\")\n",
        "\n",
        "if __name__ == \"__main__\":\n",
        "    access_data()\n"
      ],
      "metadata": {
        "colab": {
          "base_uri": "https://localhost:8080/"
        },
        "id": "uxV5tJmOcHCA",
        "outputId": "4db44094-ae2b-4d0f-babe-4f61c19d23d7"
      },
      "execution_count": 57,
      "outputs": [
        {
          "output_type": "stream",
          "name": "stdout",
          "text": [
            "IndexError: List index out of range.\n",
            "KeyError: Key not found in dictionary.\n"
          ]
        }
      ]
    },
    {
      "cell_type": "code",
      "source": [
        "#Q.20.How would you open a file and read its contents using a context manager in Python.\n",
        "\n",
        "file_path=\"exemple.txt\"\n",
        "\n",
        "with open(file_path,\"r\") as file:\n",
        "      content = file.read()\n",
        "      print(content)\n",
        ""
      ],
      "metadata": {
        "colab": {
          "base_uri": "https://localhost:8080/"
        },
        "id": "wRqhHbIreIJ2",
        "outputId": "366286ed-2ace-47eb-9de8-30875605fbad"
      },
      "execution_count": 60,
      "outputs": [
        {
          "output_type": "stream",
          "name": "stdout",
          "text": [
            "Hello World\n"
          ]
        }
      ]
    },
    {
      "cell_type": "code",
      "source": [
        "#Q.21.Write a Python program that reads a file and prints the number of occurrences of a specific word.\n",
        "\n",
        "def count_word_in_file(file_path, target_word):\n",
        "    try:\n",
        "        with open(file_path, 'r', encoding='utf-8') as file:\n",
        "            content = file.read().lower()\n",
        "            word_count = content.split().count(target_word.lower())\n",
        "        return word_count\n",
        "    except FileNotFoundError:\n",
        "        print(f\"Error: The file '{file_path}' was not found.\")\n",
        "        return 0\n",
        "    except Exception as e:\n",
        "        print(f\"An error occurred: {e}\")\n",
        "        return 0\n",
        "\n",
        "if __name__ == \"__main__\":\n",
        "    file_path = 'sample.txt'  # Replace with your file path\n",
        "    target_word = 'python'    # Replace with the word you want to count\n",
        "    count = count_word_in_file(file_path, target_word)\n",
        "    print(f\"The word '{target_word}' appears {count} times in the file.\")\n"
      ],
      "metadata": {
        "colab": {
          "base_uri": "https://localhost:8080/"
        },
        "id": "W06wonsjezan",
        "outputId": "31e6a983-fee0-440f-e26b-a21a0d3b04e4"
      },
      "execution_count": 61,
      "outputs": [
        {
          "output_type": "stream",
          "name": "stdout",
          "text": [
            "Error: The file 'sample.txt' was not found.\n",
            "The word 'python' appears 0 times in the file.\n"
          ]
        }
      ]
    },
    {
      "cell_type": "code",
      "source": [
        "#Q.22.How can you check if a file is empty before attempting to read its contents.\n",
        "\n",
        "import os\n",
        "\n",
        "file_path = 'example.txt'\n",
        "\n",
        "if os.path.exists(file_path):\n",
        "    if os.path.getsize(file_path) > 0:\n",
        "        with open(file_path, 'r') as file:\n",
        "            content = file.read()\n",
        "            print(\"File content:\")\n",
        "            print(content)\n",
        "    else:\n",
        "        print(f\"The file '{file_path}' is empty.\")\n",
        "else:\n",
        "    print(f\"The file '{file_path}' does not exist.\")\n"
      ],
      "metadata": {
        "colab": {
          "base_uri": "https://localhost:8080/"
        },
        "id": "_SRpKcf9fX6_",
        "outputId": "0a407464-14cc-4401-f570-d044961679de"
      },
      "execution_count": 62,
      "outputs": [
        {
          "output_type": "stream",
          "name": "stdout",
          "text": [
            "File content:\n",
            "This is a new line.\n",
            "\n"
          ]
        }
      ]
    },
    {
      "cell_type": "code",
      "source": [
        "#Q.23.Write a Python program that writes to a log file when an error occurs during file handling.\n",
        "\n",
        "import logging\n",
        "\n",
        "# Configure logging to write errors to a file\n",
        "logging.basicConfig(\n",
        "    filename='file_errors.log',\n",
        "    level=logging.ERROR,\n",
        "    format='%(asctime)s - %(levelname)s - %(message)s'\n",
        ")\n",
        "\n",
        "def read_file(file_path):\n",
        "    try:\n",
        "        with open(file_path, 'r') as file:\n",
        "            content = file.read()\n",
        "            print(\"File content:\")\n",
        "            print(content)\n",
        "    except Exception as e:\n",
        "        logging.error(f\"Error reading file '{file_path}': {e}\")\n",
        "        print(f\"An error occurred while reading the file. Please check the log for details.\")\n",
        "\n",
        "if __name__ == \"__main__\":\n",
        "    file_path = 'example.txt'  # Replace with your file path\n",
        "    read_file(file_path)\n"
      ],
      "metadata": {
        "colab": {
          "base_uri": "https://localhost:8080/"
        },
        "id": "R-_whbuLfvYt",
        "outputId": "60c0ba8d-aeff-42b1-871a-a2f128dae7c4"
      },
      "execution_count": 63,
      "outputs": [
        {
          "output_type": "stream",
          "name": "stdout",
          "text": [
            "File content:\n",
            "This is a new line.\n",
            "\n"
          ]
        }
      ]
    },
    {
      "cell_type": "code",
      "source": [],
      "metadata": {
        "id": "3S8849nRf-_E"
      },
      "execution_count": null,
      "outputs": []
    }
  ]
}